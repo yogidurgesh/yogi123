{
 "cells": [
  {
   "cell_type": "markdown",
   "metadata": {
    "id": "Gc_yfyEJ-ZZx"
   },
   "source": [
    "##Python String Manipulation\n",
    "\n",
    "1.Count the number of times iNeuron appears in the string"
   ]
  },
  {
   "cell_type": "code",
   "execution_count": 1,
   "metadata": {
    "colab": {
     "base_uri": "https://localhost:8080/"
    },
    "executionInfo": {
     "elapsed": 13,
     "status": "ok",
     "timestamp": 1667621751182,
     "user": {
      "displayName": "durgesh yogi",
      "userId": "15245159410107607668"
     },
     "user_tz": -330
    },
    "id": "W2z4FNfU-g9E",
    "outputId": "2b0de1dc-2d89-4122-fba2-c99817ad8073"
   },
   "outputs": [
    {
     "data": {
      "text/plain": [
       "3"
      ]
     },
     "execution_count": 1,
     "metadata": {},
     "output_type": "execute_result"
    }
   ],
   "source": [
    "text = \"Welcome to iNeuron, You are a part of FSDS Bootcamp 2 in iNeuron. I hope you are enjoying the course by iNeuron\"\n",
    "text.count(\"iNeuron\")"
   ]
  },
  {
   "cell_type": "markdown",
   "metadata": {
    "id": "mlQ6u3eGAQdA"
   },
   "source": [
    "2.Check if position 5 to 11 ends with the phrase iNeuron. in the string"
   ]
  },
  {
   "cell_type": "code",
   "execution_count": 2,
   "metadata": {
    "colab": {
     "base_uri": "https://localhost:8080/",
     "height": 35
    },
    "executionInfo": {
     "elapsed": 583,
     "status": "ok",
     "timestamp": 1667621917204,
     "user": {
      "displayName": "durgesh yogi",
      "userId": "15245159410107607668"
     },
     "user_tz": -330
    },
    "id": "-b8AUff3ATf1",
    "outputId": "bc1f3c0a-0220-4b80-cf7d-86c68ce354b6"
   },
   "outputs": [
    {
     "data": {
      "application/vnd.google.colaboratory.intrinsic+json": {
       "type": "string"
      },
      "text/plain": [
       "', welc'"
      ]
     },
     "execution_count": 2,
     "metadata": {},
     "output_type": "execute_result"
    }
   ],
   "source": [
    "\n",
    "text = \"Hello, welcome to FSDS 2.0 at iNeuron.\"\n",
    "text[5:11]"
   ]
  },
  {
   "cell_type": "markdown",
   "metadata": {
    "id": "1xIMfz9lBd2o"
   },
   "source": [
    "3. Write a program that takes your full name as input and displays the abbreviations of the first and middle names except the last name which is displayed as it is. For example, if your name is Sunny Bhaveen Chandra, then the output should be S.B.Chandra."
   ]
  },
  {
   "cell_type": "code",
   "execution_count": 3,
   "metadata": {
    "colab": {
     "base_uri": "https://localhost:8080/"
    },
    "executionInfo": {
     "elapsed": 18566,
     "status": "ok",
     "timestamp": 1667622340954,
     "user": {
      "displayName": "durgesh yogi",
      "userId": "15245159410107607668"
     },
     "user_tz": -330
    },
    "id": "oZ4fQa-JBie2",
    "outputId": "4e7c3728-90f8-427e-8357-70e9171190d3"
   },
   "outputs": [
    {
     "name": "stdout",
     "output_type": "stream",
     "text": [
      "Enter your name: D.S. Yogi\n",
      "it's not to display full name\n"
     ]
    }
   ],
   "source": [
    "name = input(\"Enter your name: \")\n",
    "if name == \"Durgesh som yogi\" :\n",
    "    print(f\"abbreviations of the first and middle names\")\n",
    "else:\n",
    "    print(f\"it's not to display full name\")"
   ]
  },
  {
   "cell_type": "markdown",
   "metadata": {
    "id": "AAAx0zDFCrgU"
   },
   "source": [
    "4. Join all items in a list into a string, using a hash(#) character as separator: \n",
    "\n",
    "LIST = [\"My\", \"name\", \"is\", \"Rishav\", \"Dash\"]"
   ]
  },
  {
   "cell_type": "code",
   "execution_count": 8,
   "metadata": {
    "colab": {
     "base_uri": "https://localhost:8080/",
     "height": 35
    },
    "executionInfo": {
     "elapsed": 11,
     "status": "ok",
     "timestamp": 1667623166765,
     "user": {
      "displayName": "durgesh yogi",
      "userId": "15245159410107607668"
     },
     "user_tz": -330
    },
    "id": "PR-ivteXCTnv",
    "outputId": "01450945-7edc-4332-ce16-a3e5c97ae4f7"
   },
   "outputs": [
    {
     "data": {
      "application/vnd.google.colaboratory.intrinsic+json": {
       "type": "string"
      },
      "text/plain": [
       "'My#name#is#Rishav#Dash'"
      ]
     },
     "execution_count": 8,
     "metadata": {},
     "output_type": "execute_result"
    }
   ],
   "source": [
    "name = [\"My\", \"name\", \"is\", \"Rishav\", \"Dash\"]\n",
    "\"#\".join(name)"
   ]
  },
  {
   "cell_type": "markdown",
   "metadata": {
    "id": "S9RtpgpCFoFL"
   },
   "source": [
    "5. Write example for the following string manipulation function.\n",
    "- isdecimal().\n",
    "- islower().\n",
    "- isupper()\n",
    "- isalpha()\n",
    "- isnumeric()"
   ]
  },
  {
   "cell_type": "code",
   "execution_count": 18,
   "metadata": {
    "colab": {
     "base_uri": "https://localhost:8080/"
    },
    "executionInfo": {
     "elapsed": 8,
     "status": "ok",
     "timestamp": 1667624099923,
     "user": {
      "displayName": "durgesh yogi",
      "userId": "15245159410107607668"
     },
     "user_tz": -330
    },
    "id": "6PmGxWk4Fgbf",
    "outputId": "35699e76-c249-4e35-d733-a61ae4b231ef"
   },
   "outputs": [
    {
     "data": {
      "text/plain": [
       "False"
      ]
     },
     "execution_count": 18,
     "metadata": {},
     "output_type": "execute_result"
    }
   ],
   "source": [
    "num = \"10.234\"\n",
    "\n",
    "num.isdecimal()"
   ]
  },
  {
   "cell_type": "code",
   "execution_count": 20,
   "metadata": {
    "colab": {
     "base_uri": "https://localhost:8080/"
    },
    "executionInfo": {
     "elapsed": 597,
     "status": "ok",
     "timestamp": 1667624146044,
     "user": {
      "displayName": "durgesh yogi",
      "userId": "15245159410107607668"
     },
     "user_tz": -330
    },
    "id": "ov8lf-YhJG7T",
    "outputId": "d4c3610b-d3a4-4a38-8ac1-7bb995960253"
   },
   "outputs": [
    {
     "data": {
      "text/plain": [
       "True"
      ]
     },
     "execution_count": 20,
     "metadata": {},
     "output_type": "execute_result"
    }
   ],
   "source": [
    "name = \"durgesh som yogi\"\n",
    "\n",
    "name.islower()"
   ]
  },
  {
   "cell_type": "code",
   "execution_count": 21,
   "metadata": {
    "colab": {
     "base_uri": "https://localhost:8080/"
    },
    "executionInfo": {
     "elapsed": 572,
     "status": "ok",
     "timestamp": 1667624204597,
     "user": {
      "displayName": "durgesh yogi",
      "userId": "15245159410107607668"
     },
     "user_tz": -330
    },
    "id": "sv_hF38YJSKx",
    "outputId": "7aa4718a-41bc-4a4f-9143-c7bc611264e1"
   },
   "outputs": [
    {
     "data": {
      "text/plain": [
       "True"
      ]
     },
     "execution_count": 21,
     "metadata": {},
     "output_type": "execute_result"
    }
   ],
   "source": [
    "name = \"DURGESH\"\n",
    "name.isupper()"
   ]
  },
  {
   "cell_type": "code",
   "execution_count": 22,
   "metadata": {
    "colab": {
     "base_uri": "https://localhost:8080/"
    },
    "executionInfo": {
     "elapsed": 7,
     "status": "ok",
     "timestamp": 1667624256748,
     "user": {
      "displayName": "durgesh yogi",
      "userId": "15245159410107607668"
     },
     "user_tz": -330
    },
    "id": "QES-vmDOJgjh",
    "outputId": "b2746c70-2bb8-4a39-f9d4-b1b7b795a735"
   },
   "outputs": [
    {
     "data": {
      "text/plain": [
       "True"
      ]
     },
     "execution_count": 22,
     "metadata": {},
     "output_type": "execute_result"
    }
   ],
   "source": [
    "name = \"durgesh\"\n",
    "name.isalpha()"
   ]
  },
  {
   "cell_type": "code",
   "execution_count": 23,
   "metadata": {
    "colab": {
     "base_uri": "https://localhost:8080/"
    },
    "executionInfo": {
     "elapsed": 587,
     "status": "ok",
     "timestamp": 1667624304673,
     "user": {
      "displayName": "durgesh yogi",
      "userId": "15245159410107607668"
     },
     "user_tz": -330
    },
    "id": "HOyQhYHrJtro",
    "outputId": "91c45df2-6916-4d14-b430-171ff78b6a2e"
   },
   "outputs": [
    {
     "data": {
      "text/plain": [
       "False"
      ]
     },
     "execution_count": 23,
     "metadata": {},
     "output_type": "execute_result"
    }
   ],
   "source": [
    "name= \"durgesh123\"\n",
    "name.isnumeric()"
   ]
  },
  {
   "cell_type": "code",
   "execution_count": 24,
   "metadata": {
    "colab": {
     "base_uri": "https://localhost:8080/"
    },
    "executionInfo": {
     "elapsed": 5,
     "status": "ok",
     "timestamp": 1667624332812,
     "user": {
      "displayName": "durgesh yogi",
      "userId": "15245159410107607668"
     },
     "user_tz": -330
    },
    "id": "NJqcXT76J5Ff",
    "outputId": "e61c1edf-9dde-46b3-a0df-1bd79579ca51"
   },
   "outputs": [
    {
     "data": {
      "text/plain": [
       "True"
      ]
     },
     "execution_count": 24,
     "metadata": {},
     "output_type": "execute_result"
    }
   ],
   "source": [
    "num = \"12344\"\n",
    "num.isnumeric()"
   ]
  },
  {
   "cell_type": "markdown",
   "metadata": {
    "id": "mPJG_YabGS7j"
   },
   "source": [
    "\n",
    "6. Indian PAN card format follows the following formats -\n",
    "\n",
    "AYEPC7894X\n",
    "\n",
    "ABCDE9999Y Take user input for PAN_CARD and validate as per the above example.\n"
   ]
  },
  {
   "cell_type": "code",
   "execution_count": 1,
   "metadata": {
    "colab": {
     "base_uri": "https://localhost:8080/"
    },
    "executionInfo": {
     "elapsed": 7847,
     "status": "ok",
     "timestamp": 1667625291399,
     "user": {
      "displayName": "durgesh yogi",
      "userId": "15245159410107607668"
     },
     "user_tz": -330
    },
    "id": "yx8UuvvPNla4",
    "outputId": "cfd0ddfc-aaf2-4f3f-a6cd-55b9cc6f9e08"
   },
   "outputs": [
    {
     "name": "stdout",
     "output_type": "stream",
     "text": [
      "Enter your Indian pan no: AYEPC7894X\n",
      "invalid input\n"
     ]
    }
   ],
   "source": [
    "pan_number = input(\"Enter your Indian pan no: \")\n",
    "\n",
    "if pan_number.startswith(\"ABCDE\") and pan_number[5:].isdigit() and pan_number.endwith(\"Y\") and len(pan_number)==10:\n",
    "  print(f\"user input is correct\")\n",
    "else:\n",
    "  print(\"invalid input\")"
   ]
  },
  {
   "cell_type": "code",
   "execution_count": null,
   "metadata": {
    "id": "__oNspYlNmK3"
   },
   "outputs": [],
   "source": []
  }
 ],
 "metadata": {
  "colab": {
   "authorship_tag": "ABX9TyMQe0tnj4o8Al+iqB+Dw96V",
   "collapsed_sections": [],
   "provenance": []
  },
  "kernelspec": {
   "display_name": "Python 3 (ipykernel)",
   "language": "python",
   "name": "python3"
  },
  "language_info": {
   "codemirror_mode": {
    "name": "ipython",
    "version": 3
   },
   "file_extension": ".py",
   "mimetype": "text/x-python",
   "name": "python",
   "nbconvert_exporter": "python",
   "pygments_lexer": "ipython3",
   "version": "3.9.12"
  }
 },
 "nbformat": 4,
 "nbformat_minor": 1
}
