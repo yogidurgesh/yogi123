{
 "cells": [
  {
   "cell_type": "markdown",
   "id": "4fa16866",
   "metadata": {},
   "source": [
    "#### Q1. Find the largest number from the given list, use for loop.\n"
   ]
  },
  {
   "cell_type": "code",
   "execution_count": 1,
   "id": "5106d619",
   "metadata": {},
   "outputs": [],
   "source": [
    "numbers = [12, 75, 150, 180, 145, 525, 50]"
   ]
  },
  {
   "cell_type": "code",
   "execution_count": 7,
   "id": "d54f9e83",
   "metadata": {},
   "outputs": [
    {
     "name": "stdout",
     "output_type": "stream",
     "text": [
      "largest number fron given list:525\n"
     ]
    }
   ],
   "source": [
    "largest = 0\n",
    "for i in numbers:\n",
    "    if largest < i:\n",
    "        largest = i\n",
    "\n",
    "print(f\"largest number fron given list:{largest}\")"
   ]
  },
  {
   "cell_type": "markdown",
   "id": "663e0c0f",
   "metadata": {},
   "source": [
    "#### Q2. Print all the even number between (1, 12)."
   ]
  },
  {
   "cell_type": "code",
   "execution_count": 9,
   "id": "f234be61",
   "metadata": {},
   "outputs": [
    {
     "name": "stdout",
     "output_type": "stream",
     "text": [
      "2\n",
      "4\n",
      "6\n",
      "8\n",
      "10\n",
      "12\n"
     ]
    }
   ],
   "source": [
    "for i in range(1,13):\n",
    "    if i%2 ==0:\n",
    "        print(i)"
   ]
  },
  {
   "cell_type": "markdown",
   "id": "eb96de5d",
   "metadata": {},
   "source": [
    "#### Q3. Calculate the sum of all numbers from 1 to a given number\n",
    "\n",
    "Expected Output:\n",
    "\n",
    "Enter number 10\n",
    "\n",
    "Sum is: 55\n"
   ]
  },
  {
   "cell_type": "code",
   "execution_count": 24,
   "id": "51a6b70c",
   "metadata": {},
   "outputs": [
    {
     "name": "stdout",
     "output_type": "stream",
     "text": [
      "Enter a integer number: 10\n",
      "Sum is: 55\n"
     ]
    }
   ],
   "source": [
    "num=int(input(\"Enter a integer number: \"))\n",
    "sum=0\n",
    "for i in range(1,num+1):\n",
    "    sum+=i   \n",
    "print(f\"Sum is: {sum}\")"
   ]
  },
  {
   "cell_type": "markdown",
   "id": "0c905460",
   "metadata": {},
   "source": [
    "##### Q4. Write a program to display only those numbers from a list that satisfy the following conditions"
   ]
  },
  {
   "cell_type": "raw",
   "id": "3b9db871",
   "metadata": {},
   "source": [
    "The number must be divisible by five\n",
    "\n",
    "If the number is greater than 150, then skip it and move to the next number\n",
    "\n",
    "If the number is greater than 500, then stop the loop\n",
    "\n",
    "#given\n",
    "numbers = [12, 75, 150, 180, 145, 525, 50]"
   ]
  },
  {
   "cell_type": "code",
   "execution_count": 25,
   "id": "508cbac6",
   "metadata": {},
   "outputs": [],
   "source": [
    "numbers = [12, 75, 150, 180, 145, 525, 50]"
   ]
  },
  {
   "cell_type": "code",
   "execution_count": 31,
   "id": "0dca8eb3",
   "metadata": {},
   "outputs": [
    {
     "name": "stdout",
     "output_type": "stream",
     "text": [
      "75\n",
      "150\n",
      "145\n"
     ]
    }
   ],
   "source": [
    "for i in numbers:\n",
    "    if i % 5 == 0:\n",
    "        if i > 500:\n",
    "            break\n",
    "        if i>150:\n",
    "            continue\n",
    "        print(i)"
   ]
  },
  {
   "cell_type": "raw",
   "id": "d5e0caaa",
   "metadata": {},
   "source": [
    "Q5. Print the given list in reverse order.\n",
    "\n",
    "list1 = [10, 20, 30, 40, 50]"
   ]
  },
  {
   "cell_type": "code",
   "execution_count": 32,
   "id": "f30cf789",
   "metadata": {},
   "outputs": [],
   "source": [
    "list1 = [10, 20, 30, 40, 50]"
   ]
  },
  {
   "cell_type": "code",
   "execution_count": 33,
   "id": "dd5c3701",
   "metadata": {},
   "outputs": [
    {
     "name": "stdout",
     "output_type": "stream",
     "text": [
      "50 40 30 20 10 "
     ]
    }
   ],
   "source": [
    "for i in reversed(list1):\n",
    "    print(i,end = \" \")\n"
   ]
  },
  {
   "cell_type": "code",
   "execution_count": null,
   "id": "0a3bb948",
   "metadata": {},
   "outputs": [],
   "source": []
  }
 ],
 "metadata": {
  "kernelspec": {
   "display_name": "Python 3 (ipykernel)",
   "language": "python",
   "name": "python3"
  },
  "language_info": {
   "codemirror_mode": {
    "name": "ipython",
    "version": 3
   },
   "file_extension": ".py",
   "mimetype": "text/x-python",
   "name": "python",
   "nbconvert_exporter": "python",
   "pygments_lexer": "ipython3",
   "version": "3.9.12"
  }
 },
 "nbformat": 4,
 "nbformat_minor": 5
}
